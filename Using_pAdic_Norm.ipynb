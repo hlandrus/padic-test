{
 "cells": [
  {
   "cell_type": "code",
   "execution_count": 1,
   "metadata": {
    "collapsed": true
   },
   "outputs": [],
   "source": [
    "import matplotlib.pyplot as plt\n",
    "import padic\n",
    "from fractions import Fraction\n",
    "import random\n",
    "import primes\n",
    "%matplotlib inline"
   ]
  },
  {
   "cell_type": "markdown",
   "metadata": {},
   "source": [
    "# p - Adic Norm \n",
    "\n",
    "This notebook explores the p-Adic norm and the metric induced by it. The building blocks for the p-adic norm are implimented in the file padic.py and will be used to illustrate the definitions. \n",
    "\n",
    "## p-Adic Ordinal on Integers\n",
    "\n",
    "First we must start with the ordinal of p which is defined as follows for a prime p and an integer a:\n",
    "$$ord_p (a) = m$$\n",
    "where $m$ is the largest integer such that\n",
    "$$a \\equiv 0 (mod p^m).$$\n",
    "This definition of a ordinal on the intgers is impliment in the function padic.find_p_ord_int(a,p), where a is an integer and p is a prime. "
   ]
  },
  {
   "cell_type": "code",
   "execution_count": 2,
   "metadata": {
    "collapsed": true
   },
   "outputs": [],
   "source": [
    "def plot_int_0_to_n(n, p, function, include_print):\n",
    "    '''To plot a function between 0 and n on all integers.'''\n",
    "    y = []\n",
    "    x = []\n",
    "    for i in range(1,n+1):\n",
    "        ord_int = function(i,p)\n",
    "        if include_print == True:\n",
    "            print(f'The {function} of {i} with respect to {p} is {ord_int}')\n",
    "        y.append(ord_int)\n",
    "        x.append(i)\n",
    "    plt.scatter(x,y)"
   ]
  },
  {
   "cell_type": "code",
   "execution_count": 3,
   "metadata": {},
   "outputs": [
    {
     "name": "stdout",
     "output_type": "stream",
     "text": [
      "The <function find_p_ord_int at 0x1103cfe18> of 1 with respect to 2 is 0\n",
      "The <function find_p_ord_int at 0x1103cfe18> of 2 with respect to 2 is 1\n",
      "The <function find_p_ord_int at 0x1103cfe18> of 3 with respect to 2 is 0\n",
      "The <function find_p_ord_int at 0x1103cfe18> of 4 with respect to 2 is 2\n",
      "The <function find_p_ord_int at 0x1103cfe18> of 5 with respect to 2 is 0\n",
      "The <function find_p_ord_int at 0x1103cfe18> of 6 with respect to 2 is 1\n",
      "The <function find_p_ord_int at 0x1103cfe18> of 7 with respect to 2 is 0\n",
      "The <function find_p_ord_int at 0x1103cfe18> of 8 with respect to 2 is 3\n",
      "The <function find_p_ord_int at 0x1103cfe18> of 9 with respect to 2 is 0\n",
      "The <function find_p_ord_int at 0x1103cfe18> of 10 with respect to 2 is 1\n"
     ]
    },
    {
     "data": {
      "image/png": "[encoded data removed]",
      "text/plain": [
       "<matplotlib.figure.Figure at 0x1104604a8>"
      ]
     },
     "metadata": {},
     "output_type": "display_data"
    }
   ],
   "source": [
    "'''For the prime 2 lets see what the ordinal with respect to p is for integer values between 1 and 10'''\n",
    "plot_int_0_to_n(10, 2, padic.find_p_ord_int, True)"
   ]
  },
  {
   "cell_type": "markdown",
   "metadata": {},
   "source": [
    "You an see from the graph above that for all odd numbers $a$ you get that $ord_p a = 0$ since no power of 2 will divide an odd number. Then there is a layer for all even numbers are divisible by 2 once. Then 4 and 8 each have a value of 2 and 3 respectively because $2^2=4$ and $2^3=8$. \n",
    "\n",
    "The value of the ordinal of an integer will always be greater than or equal to zero and there is a cyclic nature to the values. For the prime 2, zero repeats every odd number, 1 repeats at each $4k +2$ for all integers $k$, (Reason: $4k + 2 = 2(2k+1)$ and $2k+1 \\equiv 1 (mod 2)$ for all integers $k$). You can see this cyclic nature as you increase the upper range of your plot as you can see below. "
   ]
  },
  {
   "cell_type": "code",
   "execution_count": 4,
   "metadata": {},
   "outputs": [
    {
     "data": {
      "image/png": "[encoded data removed]",
      "text/plain": [
       "<matplotlib.figure.Figure at 0x112b05390>"
      ]
     },
     "metadata": {},
     "output_type": "display_data"
    }
   ],
   "source": [
    "'''We can extend this and graph the ordinal of the integers between 1 and 500. \n",
    "    You can see the cyclic, layered pattern continues.'''\n",
    "plot_int_0_to_n(500, 2, padic.find_p_ord_int, False)"
   ]
  },
  {
   "cell_type": "code",
   "execution_count": 5,
   "metadata": {},
   "outputs": [
    {
     "name": "stdout",
     "output_type": "stream",
     "text": [
      "The <function find_p_ord_int at 0x1103cfe18> of 1 with respect to 3 is 0\n",
      "The <function find_p_ord_int at 0x1103cfe18> of 2 with respect to 3 is 0\n",
      "The <function find_p_ord_int at 0x1103cfe18> of 3 with respect to 3 is 1\n",
      "The <function find_p_ord_int at 0x1103cfe18> of 4 with respect to 3 is 0\n",
      "The <function find_p_ord_int at 0x1103cfe18> of 5 with respect to 3 is 0\n",
      "The <function find_p_ord_int at 0x1103cfe18> of 6 with respect to 3 is 1\n",
      "The <function find_p_ord_int at 0x1103cfe18> of 7 with respect to 3 is 0\n",
      "The <function find_p_ord_int at 0x1103cfe18> of 8 with respect to 3 is 0\n",
      "The <function find_p_ord_int at 0x1103cfe18> of 9 with respect to 3 is 2\n",
      "The <function find_p_ord_int at 0x1103cfe18> of 10 with respect to 3 is 0\n",
      "The <function find_p_ord_int at 0x1103cfe18> of 11 with respect to 3 is 0\n",
      "The <function find_p_ord_int at 0x1103cfe18> of 12 with respect to 3 is 1\n"
     ]
    },
    {
     "data": {
      "image/png": "[encoded data removed]",
      "text/plain": [
       "<matplotlib.figure.Figure at 0x112bb2f60>"
      ]
     },
     "metadata": {},
     "output_type": "display_data"
    }
   ],
   "source": [
    "'''A similar pattern exist for other primes except now the cyclic nature is spaced out by the prime in question.'''\n",
    "plot_int_0_to_n(12, 3, padic.find_p_ord_int, True)"
   ]
  },
  {
   "cell_type": "code",
   "execution_count": 6,
   "metadata": {},
   "outputs": [
    {
     "data": {
      "image/png": "[encoded data removed]",
      "text/plain": [
       "<matplotlib.figure.Figure at 0x112d7b748>"
      ]
     },
     "metadata": {},
     "output_type": "display_data"
    }
   ],
   "source": [
    "plot_int_0_to_n(50, 5, padic.find_p_ord_int, False)"
   ]
  },
  {
   "cell_type": "markdown",
   "metadata": {
    "collapsed": true
   },
   "source": [
    "## p-Adic Ordinal on Rationals\n",
    "\n",
    "This definition of an ordinal can be extended to the Rationals. For a rational number $q = \\frac{a}{b}$ for integers $a$ and $b$ and a prime $p$,\n",
    "$$ord_p (q) = ord_p (\\frac{a}{b}) = ord_p (a) - ord_p(b).$$\n",
    "\n",
    "The function padic.find_p_ord(q,p) defines the ordinal of a rational $q$ for a prime $p$."
   ]
  },
  {
   "cell_type": "code",
   "execution_count": 7,
   "metadata": {
    "collapsed": true
   },
   "outputs": [],
   "source": [
    "def plot_m_step_rationals_0_to_n(n, p, m, function, include_print):\n",
    "    '''To plot a function between 0 and n on all rational numbers \n",
    "        of the form j/i for j in (0,i) and i in (2,n]'''\n",
    "    x = [1]\n",
    "    y = [function(n,p)]\n",
    "\n",
    "    for i in range(2, m+1):\n",
    "        step = Fraction(1,i)\n",
    "        for j in range(1,int(n/step)):\n",
    "            ord_frac = function(j*step,2)\n",
    "            if include_print == True:\n",
    "                print(f'The {function} of {j*step} with respect to {p} is {ord_frac}')\n",
    "            x.append(j*step)\n",
    "            y.append(ord_frac)\n",
    "    plt.scatter(x,y)\n",
    "    plt.xlim(0,n)"
   ]
  },
  {
   "cell_type": "code",
   "execution_count": 8,
   "metadata": {},
   "outputs": [
    {
     "name": "stdout",
     "output_type": "stream",
     "text": [
      "The <function find_p_ord at 0x1103d9c80> of 1/2 with respect to 2 is -1\n",
      "The <function find_p_ord at 0x1103d9c80> of 1 with respect to 2 is 0\n",
      "The <function find_p_ord at 0x1103d9c80> of 3/2 with respect to 2 is -1\n",
      "The <function find_p_ord at 0x1103d9c80> of 2 with respect to 2 is 1\n",
      "The <function find_p_ord at 0x1103d9c80> of 5/2 with respect to 2 is -1\n",
      "The <function find_p_ord at 0x1103d9c80> of 3 with respect to 2 is 0\n",
      "The <function find_p_ord at 0x1103d9c80> of 7/2 with respect to 2 is -1\n",
      "The <function find_p_ord at 0x1103d9c80> of 1/3 with respect to 2 is 0\n",
      "The <function find_p_ord at 0x1103d9c80> of 2/3 with respect to 2 is 1\n",
      "The <function find_p_ord at 0x1103d9c80> of 1 with respect to 2 is 0\n",
      "The <function find_p_ord at 0x1103d9c80> of 4/3 with respect to 2 is 2\n",
      "The <function find_p_ord at 0x1103d9c80> of 5/3 with respect to 2 is 0\n",
      "The <function find_p_ord at 0x1103d9c80> of 2 with respect to 2 is 1\n",
      "The <function find_p_ord at 0x1103d9c80> of 7/3 with respect to 2 is 0\n",
      "The <function find_p_ord at 0x1103d9c80> of 8/3 with respect to 2 is 3\n",
      "The <function find_p_ord at 0x1103d9c80> of 3 with respect to 2 is 0\n",
      "The <function find_p_ord at 0x1103d9c80> of 10/3 with respect to 2 is 1\n",
      "The <function find_p_ord at 0x1103d9c80> of 11/3 with respect to 2 is 0\n"
     ]
    },
    {
     "data": {
      "image/png": "[encoded data removed]",
      "text/plain": [
       "<matplotlib.figure.Figure at 0x112c6c6d8>"
      ]
     },
     "metadata": {},
     "output_type": "display_data"
    }
   ],
   "source": [
    "'''Now that we are considering rationals as inputs of our ordinal we can explore what a graph of these look like.'''\n",
    "plot_m_step_rationals_0_to_n(4, 2, 3, padic.find_p_ord, True)"
   ]
  },
  {
   "cell_type": "code",
   "execution_count": 9,
   "metadata": {},
   "outputs": [
    {
     "data": {
      "image/png": "[encoded data removed]",
      "text/plain": [
       "<matplotlib.figure.Figure at 0x113009ac8>"
      ]
     },
     "metadata": {},
     "output_type": "display_data"
    }
   ],
   "source": [
    "plot_m_step_rationals_0_to_n(1, 2, 10, padic.find_p_ord, False)"
   ]
  },
  {
   "cell_type": "code",
   "execution_count": 10,
   "metadata": {},
   "outputs": [
    {
     "data": {
      "image/png": "[encoded data removed]",
      "text/plain": [
       "<matplotlib.figure.Figure at 0x1131520b8>"
      ]
     },
     "metadata": {},
     "output_type": "display_data"
    }
   ],
   "source": [
    "plot_m_step_rationals_0_to_n(1, 2, 50, padic.find_p_ord, False)"
   ]
  },
  {
   "cell_type": "markdown",
   "metadata": {},
   "source": [
    "## Testing the Ordinal Function\n",
    "\n",
    "This brings us to our first property based test. What we are going to use to test this ordinal is the fact that \n",
    "$$ ord_p(ab) = ord_p(a) + ord_p(b)$$\n",
    "for all rational numbers $a$ and $b$. This works we can find integers $m$, $n$, $s$, $t$ such that $a=m p^n$ and $b = s p^t$  where $p$ does not divide $m$ or $s$. Note that any of these could be positive or negative, or zero. And $$ord_p(ab) = ord_p(msp^{(n+t)}) = n+t = ord_p(mp^n) + ord_p(sp^t) = ord_p(a) + ord_p(b)$$ \n",
    "\n",
    "We test by selecting random primes and random a and b then calculating:\n",
    "\n",
    "padic.find_p_ord(a,p) + padic.find_p_ord(b,p) == padic.find_p_ord(a*b,p)"
   ]
  },
  {
   "cell_type": "code",
   "execution_count": 11,
   "metadata": {},
   "outputs": [
    {
     "data": {
      "text/plain": [
       "True"
      ]
     },
     "execution_count": 11,
     "metadata": {},
     "output_type": "execute_result"
    }
   ],
   "source": [
    "a = 190\n",
    "b = 38\n",
    "p=5\n",
    "padic.find_p_ord(a,p) + padic.find_p_ord(b,p) == padic.find_p_ord(a*b,p)"
   ]
  },
  {
   "cell_type": "markdown",
   "metadata": {},
   "source": [
    "## p-Adic Norm\n",
    "Now we have the building blocks to define the p-Adic norm. For a non-zero rational number $q$,\n",
    "\n",
    "$$|q|_p = \\frac{1}{p^{ord_p(q)}}$$\n",
    "\n",
    "and for zero,\n",
    "\n",
    "$$|0|_p = 0$$"
   ]
  },
  {
   "cell_type": "code",
   "execution_count": 12,
   "metadata": {},
   "outputs": [
    {
     "name": "stdout",
     "output_type": "stream",
     "text": [
      "The <function p_norm at 0x1103d9d08> of 1 with respect to 2 is 1.0\n",
      "The <function p_norm at 0x1103d9d08> of 2 with respect to 2 is 0.5\n",
      "The <function p_norm at 0x1103d9d08> of 3 with respect to 2 is 1.0\n",
      "The <function p_norm at 0x1103d9d08> of 4 with respect to 2 is 0.25\n",
      "The <function p_norm at 0x1103d9d08> of 5 with respect to 2 is 1.0\n",
      "The <function p_norm at 0x1103d9d08> of 6 with respect to 2 is 0.5\n",
      "The <function p_norm at 0x1103d9d08> of 7 with respect to 2 is 1.0\n",
      "The <function p_norm at 0x1103d9d08> of 8 with respect to 2 is 0.125\n",
      "The <function p_norm at 0x1103d9d08> of 9 with respect to 2 is 1.0\n",
      "The <function p_norm at 0x1103d9d08> of 10 with respect to 2 is 0.5\n"
     ]
    },
    {
     "data": {
      "image/png": "[encoded data removed]",
      "text/plain": [
       "<matplotlib.figure.Figure at 0x113160278>"
      ]
     },
     "metadata": {},
     "output_type": "display_data"
    }
   ],
   "source": [
    "plot_int_0_to_n(10, 2, padic.p_norm, True)"
   ]
  },
  {
   "cell_type": "markdown",
   "metadata": {},
   "source": [
    "When ploting the 2-Adic norm with of integers "
   ]
  },
  {
   "cell_type": "code",
   "execution_count": 13,
   "metadata": {},
   "outputs": [
    {
     "data": {
      "image/png": "[encoded data removed]",
      "text/plain": [
       "<matplotlib.figure.Figure at 0x11302a358>"
      ]
     },
     "metadata": {},
     "output_type": "display_data"
    }
   ],
   "source": [
    "plot_int_0_to_n(100, 2, padic.p_norm, False)"
   ]
  },
  {
   "cell_type": "code",
   "execution_count": 14,
   "metadata": {},
   "outputs": [
    {
     "name": "stdout",
     "output_type": "stream",
     "text": [
      "The <function p_norm at 0x1103d9d08> of 1/2 with respect to 2 is 2.0\n",
      "The <function p_norm at 0x1103d9d08> of 1/3 with respect to 2 is 1.0\n",
      "The <function p_norm at 0x1103d9d08> of 2/3 with respect to 2 is 0.5\n",
      "The <function p_norm at 0x1103d9d08> of 1/4 with respect to 2 is 4.0\n",
      "The <function p_norm at 0x1103d9d08> of 1/2 with respect to 2 is 2.0\n",
      "The <function p_norm at 0x1103d9d08> of 3/4 with respect to 2 is 4.0\n",
      "The <function p_norm at 0x1103d9d08> of 1/5 with respect to 2 is 1.0\n",
      "The <function p_norm at 0x1103d9d08> of 2/5 with respect to 2 is 0.5\n",
      "The <function p_norm at 0x1103d9d08> of 3/5 with respect to 2 is 1.0\n",
      "The <function p_norm at 0x1103d9d08> of 4/5 with respect to 2 is 0.25\n"
     ]
    },
    {
     "data": {
      "image/png": "[encoded data removed]",
      "text/plain": [
       "<matplotlib.figure.Figure at 0x113300470>"
      ]
     },
     "metadata": {},
     "output_type": "display_data"
    }
   ],
   "source": [
    "plot_m_step_rationals_0_to_n(1, 2, 5, padic.p_norm, True)"
   ]
  }
 ],
 "metadata": {
  "kernelspec": {
   "display_name": "Python 3",
   "language": "python",
   "name": "python3"
  },
  "language_info": {
   "codemirror_mode": {
    "name": "ipython",
    "version": 3
   },
   "file_extension": ".py",
   "mimetype": "text/x-python",
   "name": "python",
   "nbconvert_exporter": "python",
   "pygments_lexer": "ipython3",
   "version": "3.6.1"
  }
 },
 "nbformat": 4,
 "nbformat_minor": 2
}
