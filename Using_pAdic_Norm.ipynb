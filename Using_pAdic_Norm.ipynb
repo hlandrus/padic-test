{
 "cells": [
  {
   "cell_type": "code",
   "execution_count": 13,
   "metadata": {
    "collapsed": true
   },
   "outputs": [],
   "source": [
    "import matplotlib.pyplot as plt\n",
    "import padic\n",
    "from fractions import Fraction\n",
    "import random\n",
    "import primes\n",
    "%matplotlib inline"
   ]
  },
  {
   "cell_type": "markdown",
   "metadata": {},
   "source": [
    "# p - Adic Norm \n",
    "\n",
    "This notebook explores the p-Adic norm and the metric induced by it. The building blocks for the p-adic norm are implimented in the file padic.py and will be used to illustrate the definitions. First we must start with the ordinal of p which is defined as follows for a prime p and an integer a:\n",
    "$$ord_p a = m$$\n",
    "where $m$ is the largest integer such that\n",
    "$$a \\equiv 0 (mod p^m)$$\n"
   ]
  },
  {
   "cell_type": "code",
   "execution_count": 7,
   "metadata": {},
   "outputs": [
    {
     "name": "stdout",
     "output_type": "stream",
     "text": [
      "The ordinal of 1 with respect to 2 is 0\n",
      "The ordinal of 2 with respect to 2 is 1\n",
      "The ordinal of 3 with respect to 2 is 0\n",
      "The ordinal of 4 with respect to 2 is 2\n",
      "The ordinal of 5 with respect to 2 is 0\n",
      "The ordinal of 6 with respect to 2 is 1\n",
      "The ordinal of 7 with respect to 2 is 0\n",
      "The ordinal of 8 with respect to 2 is 3\n",
      "The ordinal of 9 with respect to 2 is 0\n",
      "The ordinal of 10 with respect to 2 is 1\n"
     ]
    }
   ],
   "source": [
    "p = 2\n",
    "#assert int(p)\n",
    "for i in range(1,11):\n",
    "    if isinstance(i, int):\n",
    "        print(f'The ordinal of {i} with respect to {p} is', padic.find_p_ord_int(int(i),p))\n",
    "    #print(int(i))"
   ]
  },
  {
   "cell_type": "code",
   "execution_count": 9,
   "metadata": {},
   "outputs": [],
   "source": [
    "def test_this(p):\n",
    "    try:\n",
    "        p = int(p)\n",
    "    except ValueError:\n",
    "        raise ValueError\n",
    "\n",
    "test_this(0)"
   ]
  },
  {
   "cell_type": "code",
   "execution_count": 18,
   "metadata": {},
   "outputs": [
    {
     "ename": "AssertionError",
     "evalue": "",
     "output_type": "error",
     "traceback": [
      "\u001b[0;31m---------------------------------------------------------------------------\u001b[0m",
      "\u001b[0;31mAssertionError\u001b[0m                            Traceback (most recent call last)",
      "\u001b[0;32m<ipython-input-18-02e33a4b9533>\u001b[0m in \u001b[0;36m<module>\u001b[0;34m()\u001b[0m\n\u001b[1;32m      1\u001b[0m \u001b[0;34m\u001b[0m\u001b[0m\n\u001b[0;32m----> 2\u001b[0;31m \u001b[0mpadic\u001b[0m\u001b[0;34m.\u001b[0m\u001b[0mfind_p_ord_int\u001b[0m\u001b[0;34m(\u001b[0m\u001b[0;36m0\u001b[0m\u001b[0;34m,\u001b[0m\u001b[0;36m2\u001b[0m\u001b[0;34m)\u001b[0m\u001b[0;34m\u001b[0m\u001b[0m\n\u001b[0m",
      "\u001b[0;32m/Users/hannalandrus/Documents/Documents/PythonNotebooks/NumberTheory/padicTest/padic.py\u001b[0m in \u001b[0;36mfind_p_ord_int\u001b[0;34m(a, p)\u001b[0m\n\u001b[1;32m      6\u001b[0m \u001b[0;32mdef\u001b[0m \u001b[0mfind_p_ord_int\u001b[0m\u001b[0;34m(\u001b[0m\u001b[0ma\u001b[0m\u001b[0;34m,\u001b[0m\u001b[0mp\u001b[0m\u001b[0;34m)\u001b[0m\u001b[0;34m:\u001b[0m\u001b[0;34m\u001b[0m\u001b[0m\n\u001b[1;32m      7\u001b[0m     \u001b[0;34m'''Calculate the ordinal of a, an int, with respect to p a prime.'''\u001b[0m\u001b[0;34m\u001b[0m\u001b[0m\n\u001b[0;32m----> 8\u001b[0;31m     \u001b[0;32mif\u001b[0m \u001b[0ma\u001b[0m \u001b[0;34m==\u001b[0m \u001b[0;36m0\u001b[0m\u001b[0;34m:\u001b[0m\u001b[0;34m\u001b[0m\u001b[0m\n\u001b[0m\u001b[1;32m      9\u001b[0m         \u001b[0;32mreturn\u001b[0m \u001b[0;36m0\u001b[0m\u001b[0;34m\u001b[0m\u001b[0m\n\u001b[1;32m     10\u001b[0m     \u001b[0;32mtry\u001b[0m\u001b[0;34m:\u001b[0m\u001b[0;34m\u001b[0m\u001b[0m\n",
      "\u001b[0;31mAssertionError\u001b[0m: "
     ]
    }
   ],
   "source": [
    "\n",
    "padic.find_p_ord_int(0,2)"
   ]
  },
  {
   "cell_type": "code",
   "execution_count": 16,
   "metadata": {},
   "outputs": [],
   "source": [
    "def find_p_ord_int(a,p):\n",
    "    '''Calculate the ordinal of a, an int, with respect to p a prime.'''\n",
    "    if a == 0:\n",
    "        return 0\n",
    "    try:\n",
    "        a = int(a)\n",
    "    except ValueError:\n",
    "        raise ValueError\n",
    "    if not primes.prime_check(p):\n",
    "        raise 'Error p not prime'\n",
    "    else:\n",
    "        c = 0\n",
    "        while a%(p**(c)) == 0:\n",
    "            c += 1\n",
    "        return c - 1"
   ]
  },
  {
   "cell_type": "code",
   "execution_count": 17,
   "metadata": {},
   "outputs": [
    {
     "data": {
      "text/plain": [
       "0"
      ]
     },
     "execution_count": 17,
     "metadata": {},
     "output_type": "execute_result"
    }
   ],
   "source": [
    "find_p_ord_int(0,2)"
   ]
  },
  {
   "cell_type": "code",
   "execution_count": 40,
   "metadata": {},
   "outputs": [
    {
     "data": {
      "text/plain": [
       "(25, 0)"
      ]
     },
     "execution_count": 40,
     "metadata": {},
     "output_type": "execute_result"
    }
   ],
   "source": [
    "divmod(abs(128-3),5)"
   ]
  },
  {
   "cell_type": "code",
   "execution_count": 34,
   "metadata": {},
   "outputs": [
    {
     "data": {
      "text/plain": [
       "<matplotlib.collections.PathCollection at 0x10ee20438>"
      ]
     },
     "execution_count": 34,
     "metadata": {},
     "output_type": "execute_result"
    },
    {
     "data": {
      "image/png": "[encoded data removed]",
      "text/plain": [
       "<matplotlib.figure.Figure at 0x10f301cf8>"
      ]
     },
     "metadata": {},
     "output_type": "display_data"
    }
   ],
   "source": [
    "x = []\n",
    "y = []\n",
    "step = Fraction(1,100)\n",
    "\n",
    "for i in range(1,1000):\n",
    "    r = random.random()\n",
    "    #print(r, padic.p_norm(r,2))\n",
    "    x.append(r)\n",
    "    y.append(padic.p_norm(r,2))\n",
    "plt.scatter(x,y)"
   ]
  },
  {
   "cell_type": "code",
   "execution_count": 30,
   "metadata": {},
   "outputs": [
    {
     "data": {
      "text/plain": [
       "[0.03543982187810624,\n",
       " 0.24972532914963208,\n",
       " 0.6368193485696194,\n",
       " 0.005420333515013476,\n",
       " 0.9954188736759922,\n",
       " 0.0422265046348711,\n",
       " 0.6495293104776769,\n",
       " 0.6489837042776158,\n",
       " 0.8716632616745155,\n",
       " 0.9973137774005703,\n",
       " 0.5859343154893203,\n",
       " 0.32536537518408293,\n",
       " 0.4429813588685668,\n",
       " 0.6351485584124217,\n",
       " 0.9809612602450476,\n",
       " 0.35805464825190814,\n",
       " 0.7078226083804743,\n",
       " 0.34197675390383164,\n",
       " 0.3698559803806811,\n",
       " 0.21859032598113737,\n",
       " 0.7770489971760229,\n",
       " 0.4848946033873156,\n",
       " 0.6157490384092849,\n",
       " 0.6927883009485593,\n",
       " 0.5141988970077103,\n",
       " 0.8081451152361173,\n",
       " 0.4300916703904045,\n",
       " 0.5114996693548396,\n",
       " 0.5764555788559415,\n",
       " 0.14117932265617894,\n",
       " 0.7873823270758016,\n",
       " 0.7427632197867639,\n",
       " 0.46407539069218107,\n",
       " 0.9246402359329726,\n",
       " 0.9599363301960431,\n",
       " 0.20676535318141642,\n",
       " 0.7161668270108827,\n",
       " 0.7782884774416249,\n",
       " 0.4234076139245553,\n",
       " 0.6419629796283185,\n",
       " 0.7412998217284831,\n",
       " 0.18874719164632947,\n",
       " 0.04495586556071385,\n",
       " 0.9201038898809909,\n",
       " 0.9212839898341225,\n",
       " 0.46055143486933137,\n",
       " 0.037586795174317844,\n",
       " 0.7083763630995994,\n",
       " 0.22576294054849821,\n",
       " 0.6223312488045027,\n",
       " 0.8110308341221321,\n",
       " 0.8008811616191807,\n",
       " 0.5938096247091657,\n",
       " 0.33594339615240754,\n",
       " 0.47053182126029036,\n",
       " 0.4312539564722814,\n",
       " 0.3922173987734028,\n",
       " 0.9959678848724176,\n",
       " 0.5693524078886361,\n",
       " 0.4734474617716785,\n",
       " 0.9600453526956099,\n",
       " 0.6981926109244139,\n",
       " 0.5461750599287444,\n",
       " 0.2290103326960714,\n",
       " 0.3182324531177524,\n",
       " 0.04313973163865348,\n",
       " 0.013167496219763541,\n",
       " 0.8999645943883311,\n",
       " 0.2312141383539843,\n",
       " 0.18125203556060143,\n",
       " 0.9394940050781888,\n",
       " 0.3411517508891243,\n",
       " 0.40308958178690646,\n",
       " 0.1773477038649386,\n",
       " 0.5020805927277181,\n",
       " 0.4121779550933886,\n",
       " 0.019138658285721144,\n",
       " 0.8190361466844529,\n",
       " 0.05871802280759586,\n",
       " 0.07438721241025548,\n",
       " 0.45816948703156424,\n",
       " 0.7115906657185572,\n",
       " 0.4209096892694185,\n",
       " 0.3758578709702942,\n",
       " 0.23359938372187428,\n",
       " 0.3183500782397918,\n",
       " 0.3721067347073391,\n",
       " 0.23994291170039772,\n",
       " 0.7680183402941353,\n",
       " 0.19792081644556003,\n",
       " 0.2943430250627652,\n",
       " 0.12860129206490256,\n",
       " 0.1274531612652101,\n",
       " 0.7859085577710012,\n",
       " 0.7126696522741409,\n",
       " 0.7352001957538943,\n",
       " 0.474160565382565,\n",
       " 0.22629164604148444,\n",
       " 0.7653491401855502]"
      ]
     },
     "execution_count": 30,
     "metadata": {},
     "output_type": "execute_result"
    }
   ],
   "source": [
    "x"
   ]
  },
  {
   "cell_type": "code",
   "execution_count": 16,
   "metadata": {
    "collapsed": true
   },
   "outputs": [],
   "source": [
    "arr.append([0,0])"
   ]
  },
  {
   "cell_type": "code",
   "execution_count": 28,
   "metadata": {},
   "outputs": [
    {
     "data": {
      "text/plain": [
       "[0.06777147766321467, 16.0]"
      ]
     },
     "execution_count": 28,
     "metadata": {},
     "output_type": "execute_result"
    }
   ],
   "source": [
    "arr[1]"
   ]
  },
  {
   "cell_type": "code",
   "execution_count": 23,
   "metadata": {},
   "outputs": [
    {
     "data": {
      "text/plain": [
       "[[0.20248688160348094, 1.0],\n",
       " [0.06777147766321467, 16.0],\n",
       " [0.2676485936367987, 2.0],\n",
       " [0.35491509677167576, 2.0],\n",
       " [0.1742141089454362, 4.0],\n",
       " [0.18519188860091118, 1.0],\n",
       " [0.355021003243035, 0.5],\n",
       " [0.17083818704689102, 2.0],\n",
       " [0.957579123368073, 1.0],\n",
       " [0.056703987376861775, 1.0],\n",
       " [0.10284487895974259, 0.125],\n",
       " [0.7872478909752366, 1.0],\n",
       " [0.38597334647025083, 1.0],\n",
       " [0.3415693586159144, 0.5],\n",
       " [0.3316818703909822, 8.0],\n",
       " [0.35329239623608677, 1.0],\n",
       " [0.5578326485882094, 1.0],\n",
       " [0.21089926444010898, 1.0],\n",
       " [0.6143957510988439, 2.0],\n",
       " [0.4959153046344488, 0.125],\n",
       " [0.7703151404219012, 1.0],\n",
       " [0.027758222583036618, 1.0],\n",
       " [0.25410951744665755, 8.0],\n",
       " [0.6652732124803659, 2.0],\n",
       " [0.8668621962265732, 0.125],\n",
       " [0.9514613077067596, 0.03125],\n",
       " [0.8474755374359887, 0.0625],\n",
       " [0.8000471625479818, 1.0],\n",
       " [0.7065156098799951, 4.0],\n",
       " [0.5565332573096611, 4.0],\n",
       " [0.04358803712520376, 0.25],\n",
       " [0.6057229950628598, 2.0],\n",
       " [0.9644475222974991, 1.0],\n",
       " [0.7098753412147457, 0.5],\n",
       " [0.5156615509774737, 0.125],\n",
       " [0.19137389490440415, 2.0],\n",
       " [0.48828078608338454, 2.0],\n",
       " [0.0050657177604162, 1.0],\n",
       " [0.22568081152053188, 0.25],\n",
       " [0.5130039000981752, 1.0],\n",
       " [0.22170257522149506, 0.5],\n",
       " [0.17554379117681296, 4.0],\n",
       " [0.16425976779568852, 2.0],\n",
       " [0.17547359735476042, 1.0],\n",
       " [0.5936951237244472, 0.5],\n",
       " [0.09684956446261717, 1.0],\n",
       " [0.925920927276893, 8.0],\n",
       " [0.4566200849122589, 1.0],\n",
       " [0.7496039971430437, 0.25],\n",
       " [0.25183182196670595, 0.25],\n",
       " [0.5792227530309736, 16.0],\n",
       " [0.24804538167429036, 1.0],\n",
       " [0.18451586523865549, 2.0],\n",
       " [0.8948501030335763, 1.0],\n",
       " [0.6569177234150034, 8.0],\n",
       " [0.41368400666954763, 0.0625],\n",
       " [0.37382369671511995, 1.0],\n",
       " [0.04165596437117458, 2.0],\n",
       " [0.16775137200901757, 1.0],\n",
       " [0.31172048687813114, 0.5],\n",
       " [0.8939634144457107, 1.0],\n",
       " [0.17777499431042953, 0.5],\n",
       " [0.12736680912659903, 1.0],\n",
       " [0.49142538306992123, 4.0],\n",
       " [0.5054161019106334, 1.0],\n",
       " [0.4955586696232902, 16.0],\n",
       " [0.20524800219336758, 0.5],\n",
       " [0.7946578429881646, 1.0],\n",
       " [0.64458836649119, 2.0],\n",
       " [0.8391991869605069, 1.0],\n",
       " [0.3684977555330422, 1.0],\n",
       " [0.6190143102615663, 0.5],\n",
       " [0.20034223451425404, 0.5],\n",
       " [0.984487000501752, 0.0625],\n",
       " [0.7956721027645648, 1.0],\n",
       " [0.7249500735540717, 0.03125],\n",
       " [0.1106516773162689, 0.125],\n",
       " [0.7276693655538663, 0.5],\n",
       " [0.6268912041395392, 4.0],\n",
       " [0.06462190180327432, 1.0],\n",
       " [0.07547126456609432, 0.25],\n",
       " [0.43611694197708784, 2.0],\n",
       " [0.6913330790748273, 1.0],\n",
       " [0.5958042098477007, 0.25],\n",
       " [0.6916580093637225, 2.0],\n",
       " [0.45789783021193853, 1.0],\n",
       " [0.48966289829894283, 2.0],\n",
       " [0.6002433182978347, 1.0],\n",
       " [0.8034100338155733, 1.0],\n",
       " [0.5253951388674177, 2.0],\n",
       " [0.4429014877129407, 2.0],\n",
       " [0.6395529478009483, 0.25],\n",
       " [0.10955527406351628, 0.0078125],\n",
       " [0.04311515218648099, 0.25],\n",
       " [0.9063549465452473, 16.0],\n",
       " [0.608584608294745, 1.0],\n",
       " [0.5231256653740186, 0.5],\n",
       " [0.5039384243861061, 8.0],\n",
       " [0.15436234663086867, 0.125]]"
      ]
     },
     "execution_count": 23,
     "metadata": {},
     "output_type": "execute_result"
    }
   ],
   "source": [
    "arr"
   ]
  },
  {
   "cell_type": "code",
   "execution_count": null,
   "metadata": {
    "collapsed": true
   },
   "outputs": [],
   "source": []
  }
 ],
 "metadata": {
  "kernelspec": {
   "display_name": "Python 3",
   "language": "python",
   "name": "python3"
  },
  "language_info": {
   "codemirror_mode": {
    "name": "ipython",
    "version": 3
   },
   "file_extension": ".py",
   "mimetype": "text/x-python",
   "name": "python",
   "nbconvert_exporter": "python",
   "pygments_lexer": "ipython3",
   "version": "3.6.1"
  }
 },
 "nbformat": 4,
 "nbformat_minor": 2
}
