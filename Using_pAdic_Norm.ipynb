{
 "cells": [
  {
   "cell_type": "code",
   "execution_count": 1,
   "metadata": {
    "collapsed": true
   },
   "outputs": [],
   "source": [
    "import matplotlib.pyplot as plt\n",
    "import padic\n",
    "from fractions import Fraction\n",
    "import random\n",
    "import primes\n",
    "%matplotlib inline"
   ]
  },
  {
   "cell_type": "markdown",
   "metadata": {},
   "source": [
    "# p - Adic Norm \n",
    "\n",
    "This notebook explores the p-Adic norm and the metric induced by it. The building blocks for the p-adic norm are implimented in the file padic.py and will be used to illustrate the definitions. \n",
    "\n",
    "## p-Adic Ordinal on Integers\n",
    "\n",
    "First we must start with the ordinal of p which is defined as follows for a prime p and an integer a:\n",
    "$$ord_p (a) = m$$\n",
    "where $m$ is the largest integer such that\n",
    "$$a \\equiv 0 (mod p^m).$$\n",
    "This definition of a ordinal on the intgers is impliment in the function padic.find_p_ord_int(a,p), where a is an integer and p is a prime. "
   ]
  },
  {
   "cell_type": "code",
   "execution_count": 2,
   "metadata": {},
   "outputs": [
    {
     "name": "stdout",
     "output_type": "stream",
     "text": [
      "The ordinal of 1 with respect to 2 is 0\n",
      "The ordinal of 2 with respect to 2 is 1\n",
      "The ordinal of 3 with respect to 2 is 0\n",
      "The ordinal of 4 with respect to 2 is 2\n",
      "The ordinal of 5 with respect to 2 is 0\n",
      "The ordinal of 6 with respect to 2 is 1\n",
      "The ordinal of 7 with respect to 2 is 0\n",
      "The ordinal of 8 with respect to 2 is 3\n",
      "The ordinal of 9 with respect to 2 is 0\n",
      "The ordinal of 10 with respect to 2 is 1\n"
     ]
    },
    {
     "data": {
      "text/plain": [
       "<matplotlib.collections.PathCollection at 0x1046c2b70>"
      ]
     },
     "execution_count": 2,
     "metadata": {},
     "output_type": "execute_result"
    },
    {
     "data": {
      "image/png": "[encoded data removed]",
      "text/plain": [
       "<matplotlib.figure.Figure at 0x10af5b128>"
      ]
     },
     "metadata": {},
     "output_type": "display_data"
    }
   ],
   "source": [
    "'''For the prime 2 lets see what the ordinal with respect to p is for the values between 1 and 10'''\n",
    "p = 2\n",
    "y = []\n",
    "x = []\n",
    "for i in range(1,11):\n",
    "    print(f'The ordinal of {i} with respect to {p} is', padic.find_p_ord_int(i,p))\n",
    "    y.append(padic.find_p_ord_int(i,2))\n",
    "    x.append(i)\n",
    "plt.scatter(x,y)"
   ]
  },
  {
   "cell_type": "markdown",
   "metadata": {},
   "source": [
    "You an see from the graph above that for all odd numbers $a$ you get that $ord_p a = 0$ since no power of 2 will divide an odd number. Then there is a layer for all even numbers are divisible by 2 once. Then 4 and 8 each have a value of 2 and 3 respectively because $2^2=4$ and $2^3=8$."
   ]
  },
  {
   "cell_type": "code",
   "execution_count": 3,
   "metadata": {},
   "outputs": [
    {
     "data": {
      "text/plain": [
       "<matplotlib.collections.PathCollection at 0x10d6ac048>"
      ]
     },
     "execution_count": 3,
     "metadata": {},
     "output_type": "execute_result"
    },
    {
     "data": {
      "image/png": "[encoded data removed]",
      "text/plain": [
       "<matplotlib.figure.Figure at 0x10af517f0>"
      ]
     },
     "metadata": {},
     "output_type": "display_data"
    }
   ],
   "source": [
    "'''We can extend this and graph the integer ordinals for values between 1 and 500. \n",
    "    You can see the triangular layered pattern continues.'''\n",
    "p=2\n",
    "y = []\n",
    "x = []\n",
    "\n",
    "\n",
    "for i in range(1,500):\n",
    "    y.append(padic.find_p_ord_int(i,p))\n",
    "    x.append(i)\n",
    "plt.scatter(x,y)"
   ]
  },
  {
   "cell_type": "markdown",
   "metadata": {
    "collapsed": true
   },
   "source": [
    "## p-Adic Ordinal on Rationals\n",
    "\n",
    "This definition of an ordinal can be extended to the Rationals. For a rational number $q = \\frac{a}{b}$ for integers $a$ and $b$ and a prime $p$,\n",
    "$$ord_p (q) = ord_p (\\frac{a}{b}) = ord_p (a) - ord_p(b).$$\n",
    "\n",
    "The function padic.find_p_ord(q,p) defines the ordinal of a rational $q$ for a prime $p$."
   ]
  },
  {
   "cell_type": "code",
   "execution_count": 22,
   "metadata": {},
   "outputs": [
    {
     "data": {
      "text/plain": [
       "(0, 1.1)"
      ]
     },
     "execution_count": 22,
     "metadata": {},
     "output_type": "execute_result"
    },
    {
     "data": {
      "image/png": "[encoded data removed]",
      "text/plain": [
       "<matplotlib.figure.Figure at 0x10e706f60>"
      ]
     },
     "metadata": {},
     "output_type": "display_data"
    }
   ],
   "source": [
    "p=2\n",
    "x = [1]\n",
    "y = [padic.find_p_ord_int(1,p)]\n",
    "\n",
    "for i in range(2, 5):\n",
    "    step = Fraction(1,i)\n",
    "    for j in range(1,int(1/step)):\n",
    "        #print(i, j, j*step, padic.find_p_ord(j*step,2))\n",
    "        x.append(j*step)\n",
    "        y.append(padic.find_p_ord(j*step,2))\n",
    "plt.scatter(x,y)\n",
    "plt.xlim(0,1.1)"
   ]
  },
  {
   "cell_type": "code",
   "execution_count": 4,
   "metadata": {},
   "outputs": [
    {
     "data": {
      "text/plain": [
       "<matplotlib.collections.PathCollection at 0x10d70ad68>"
      ]
     },
     "execution_count": 4,
     "metadata": {},
     "output_type": "execute_result"
    },
    {
     "data": {
      "image/png": "[encoded data removed]",
      "text/plain": [
       "<matplotlib.figure.Figure at 0x10d756048>"
      ]
     },
     "metadata": {},
     "output_type": "display_data"
    }
   ],
   "source": [
    "x = []\n",
    "y = []\n",
    "step = Fraction(1,2)\n",
    "\n",
    "for i in range(1,1000):\n",
    "    r = random.random()\n",
    "    #print(r, padic.p_norm(r,2))\n",
    "    x.append(r)\n",
    "    y.append(padic.p_norm(r,2))\n",
    "plt.scatter(x,y)"
   ]
  },
  {
   "cell_type": "code",
   "execution_count": null,
   "metadata": {
    "collapsed": true
   },
   "outputs": [],
   "source": []
  }
 ],
 "metadata": {
  "kernelspec": {
   "display_name": "Python 3",
   "language": "python",
   "name": "python3"
  },
  "language_info": {
   "codemirror_mode": {
    "name": "ipython",
    "version": 3
   },
   "file_extension": ".py",
   "mimetype": "text/x-python",
   "name": "python",
   "nbconvert_exporter": "python",
   "pygments_lexer": "ipython3",
   "version": "3.6.1"
  }
 },
 "nbformat": 4,
 "nbformat_minor": 2
}
